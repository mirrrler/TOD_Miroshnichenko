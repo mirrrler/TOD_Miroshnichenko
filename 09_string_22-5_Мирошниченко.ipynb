{
 "cells": [
  {
   "cell_type": "markdown",
   "metadata": {},
   "source": [
    "# Введение в обработку текста на естественном языке"
   ]
  },
  {
   "cell_type": "markdown",
   "metadata": {},
   "source": [
    "Материалы:\n",
    "* Макрушин С.В. Лекция 9: Введение в обработку текста на естественном языке\\\n",
    "* https://realpython.com/nltk-nlp-python/\n",
    "* https://scikit-learn.org/stable/modules/feature_extraction.html"
   ]
  },
  {
   "cell_type": "markdown",
   "metadata": {},
   "source": [
    "## Задачи для совместного разбора"
   ]
  },
  {
   "cell_type": "code",
   "execution_count": 5,
   "metadata": {},
   "outputs": [],
   "source": [
    "from sklearn.feature_extraction.text import CountVectorizer\n"
   ]
  },
  {
   "cell_type": "markdown",
   "metadata": {},
   "source": [
    "1. Считайте слова из файла `litw-win.txt` и запишите их в список `words`. В заданном предложении исправьте все опечатки, заменив слова с опечатками на ближайшие (в смысле расстояния Левенштейна) к ним слова из списка `words`. Считайте, что в слове есть опечатка, если данное слово не содержится в списке `words`. "
   ]
  },
  {
   "cell_type": "code",
   "execution_count": 6,
   "metadata": {},
   "outputs": [],
   "source": [
    "text = '''с велечайшим усилием выбравшись из потока убегающих людей Кутузов со свитой уменьшевшейся вдвое поехал на звуки выстрелов русских орудий'''"
   ]
  },
  {
   "cell_type": "markdown",
   "metadata": {},
   "source": [
    "2. Разбейте текст из формулировки задания 1 на слова; проведите стемминг и лемматизацию слов."
   ]
  },
  {
   "cell_type": "markdown",
   "metadata": {},
   "source": [
    "3. Преобразуйте предложения из формулировки задания 1 в векторы при помощи `CountVectorizer`."
   ]
  },
  {
   "cell_type": "markdown",
   "metadata": {},
   "source": [
    "## Лабораторная работа 9"
   ]
  },
  {
   "cell_type": "markdown",
   "metadata": {},
   "source": [
    "### Расстояние редактирования"
   ]
  },
  {
   "cell_type": "code",
   "execution_count": 7,
   "metadata": {},
   "outputs": [
    {
     "name": "stderr",
     "output_type": "stream",
     "text": [
      "[nltk_data] Downloading package punkt to\n",
      "[nltk_data]     /Users/leramiroshnichenko/nltk_data...\n",
      "[nltk_data]   Package punkt is already up-to-date!\n",
      "[nltk_data] Downloading package wordnet to\n",
      "[nltk_data]     /Users/leramiroshnichenko/nltk_data...\n",
      "[nltk_data]   Package wordnet is already up-to-date!\n",
      "[nltk_data] Error loading omw-1.45: Package 'omw-1.45' not found in\n",
      "[nltk_data]     index\n",
      "[nltk_data] Downloading package stopwords to\n",
      "[nltk_data]     /Users/leramiroshnichenko/nltk_data...\n",
      "[nltk_data]   Package stopwords is already up-to-date!\n"
     ]
    }
   ],
   "source": [
    "import nltk\n",
    "nltk.download(\"punkt\")\n",
    "nltk.download('wordnet')\n",
    "nltk.download ('omw-1.45')\n",
    "nltk.download (\"stopwords\")\n",
    "from nltk.stem import WordNetLemmatizer\n",
    "from nltk.tokenize import word_tokenize as w_tok\n",
    "from nltk.metrics import*\n",
    "from nltk.stem import SnowballStemmer\n",
    "from nltk import FreqDist\n",
    "from nltk.corpus import stopwords\n",
    "               \n",
    "import pandas as pd\n",
    "import random"
   ]
  },
  {
   "cell_type": "markdown",
   "metadata": {},
   "source": [
    "1.1 Загрузите предобработанные описания рецептов из файла `preprocessed_descriptions.csv`. Получите набор уникальных слов `words`, содержащихся в текстах описаний рецептов (воспользуйтесь `word_tokenize` из `nltk`). "
   ]
  },
  {
   "cell_type": "code",
   "execution_count": null,
   "metadata": {},
   "outputs": [],
   "source": [
    "import pandas as pd\n",
    "from nltk.tokenize import word_tokenize\n",
    "recipes_df=pd.read_csv('preprocessed_descriptions.csv')\n",
    "words=[]\n",
    "for description in recipes_df['description']:\n",
    "    words+=word_tokenize(description)\n",
    "words=set(words)\n",
    "print(words)"
   ]
  },
  {
   "cell_type": "markdown",
   "metadata": {},
   "source": [
    "1.2 Сгенерируйте 5 пар случайно выбранных слов и посчитайте между ними расстояние редактирования."
   ]
  },
  {
   "cell_type": "code",
   "execution_count": 10,
   "metadata": {},
   "outputs": [
    {
     "name": "stdout",
     "output_type": "stream",
     "text": [
      "Пара: ['when', 'you'], расстояние редактирования: 4\n",
      "Пара: ['gave', '28-oz'], расстояние редактирования: 5\n",
      "Пара: ['even', ','], расстояние редактирования: 4\n",
      "Пара: ['``', 'classic'], расстояние редактирования: 7\n",
      "Пара: ['from', 'in'], расстояние редактирования: 4\n"
     ]
    }
   ],
   "source": [
    "import random\n",
    "from nltk.metrics import *\n",
    "lst=[0]*5\n",
    "for i in range(5):\n",
    "    lst[i]=random.sample(words, 2)\n",
    "    print(f'Пара: {lst[i]}, расстояние редактирования: {edit_distance(lst[i][0], lst[i][1])}')"
   ]
  },
  {
   "cell_type": "markdown",
   "metadata": {},
   "source": [
    "1.3 Напишите функцию, которая для заданного слова `word` возвращает `k` ближайших к нему слов из списка `words` (близость слов измеряется с помощью расстояния Левенштейна)"
   ]
  },
  {
   "cell_type": "code",
   "execution_count": 11,
   "metadata": {},
   "outputs": [
    {
     "name": "stdout",
     "output_type": "stream",
     "text": [
      "['divide', 'decided', 'side', 'five', 'give']\n"
     ]
    }
   ],
   "source": [
    "def find_words(word,k):\n",
    "    dct={w:edit_distance(w,word) for w in words}\n",
    "    dct=sorted(dct,key=dct.get)[:k]\n",
    "    return dct\n",
    "print(find_words('divide',5))"
   ]
  },
  {
   "cell_type": "markdown",
   "metadata": {},
   "source": [
    "### Стемминг, лемматизация"
   ]
  },
  {
   "cell_type": "markdown",
   "metadata": {},
   "source": [
    "2.1 На основе результатов 1.1 создайте `pd.DataFrame` со столбцами: \n",
    "    * word\n",
    "    * stemmed_word \n",
    "    * normalized_word \n",
    "\n",
    "Столбец `word` укажите в качестве индекса. \n",
    "\n",
    "Для стемминга воспользуйтесь `SnowballStemmer`, для нормализации слов - `WordNetLemmatizer`. Сравните результаты стемминга и лемматизации."
   ]
  },
  {
   "cell_type": "markdown",
   "metadata": {},
   "source": [
    "2.2. Удалите стоп-слова из описаний рецептов. Какую долю об общего количества слов составляли стоп-слова? Сравните топ-10 самых часто употребляемых слов до и после удаления стоп-слов."
   ]
  },
  {
   "cell_type": "code",
   "execution_count": 15,
   "metadata": {},
   "outputs": [
    {
     "name": "stdout",
     "output_type": "stream",
     "text": [
      "{'not', 'further', \"she's\", 'again', 'for', 're', 'of', 'mustn', 'shan', 'our', 'while', 'no', 'having', 'only', 'ours', 'above', \"shouldn't\", 'what', 'does', 'weren', 'this', 'she', 'few', \"wouldn't\", 'yourselves', \"should've\", 'why', 'i', 'into', 'we', 'doing', 'couldn', 'he', 'd', 'shouldn', 'has', 'don', 'y', 'an', 'wouldn', 'during', 'hadn', \"mustn't\", 'been', 'in', \"hadn't\", 'have', 'down', 'your', 'some', 'as', 'itself', 'hasn', 'those', 'yourself', 'nor', 'themselves', 'is', 'how', 'did', 'were', 'mightn', 've', 'just', 'so', 'are', \"won't\", 'because', 'other', 'hers', 'than', 'on', 'its', 'be', 'when', 'if', 'wasn', 'with', 'under', 'against', \"didn't\", 'their', 'her', \"hasn't\", \"it's\", 'about', 'then', 'can', 'them', 'the', 'same', \"aren't\", 'yours', 'didn', 'there', \"you're\", 'won', 'isn', 'up', 'aren', 'herself', \"haven't\", 'doesn', 's', 'myself', \"shan't\", \"you've\", 'm', 'will', 'you', 'at', 'more', \"doesn't\", 'ma', 'and', 'all', 'theirs', 'after', 'my', 'do', 'whom', 'from', 'ain', 'being', 'himself', 'to', \"weren't\", 'before', 'any', 'over', 'now', \"isn't\", 'but', 'off', 'o', \"you'll\", 'or', 'own', 'too', 'his', 't', 'most', 'here', 'these', 'should', \"wasn't\", 'me', 'am', 'that', 'had', 'by', 'him', 'below', 'll', \"couldn't\", 'which', \"you'd\", 'a', 'once', 'they', 'haven', 'it', \"that'll\", 'both', 'needn', 'such', 'very', 'until', 'through', 'out', \"mightn't\", \"needn't\", 'each', \"don't\", 'who', 'where', 'was', 'ourselves', 'between'}\n",
      "Доля стоп-слов в общем количесве слов:0.42353053984082845\n",
      "Топ-10 самых часто употребляемых слов до удаления стоп-слов:.       502\n",
      "the     332\n",
      ",       303\n",
      "a       285\n",
      "i       282\n",
      "it      252\n",
      "and     251\n",
      "this    225\n",
      "to      223\n",
      "is      166\n",
      "dtype: int64\n",
      "Топ-10 самых часто употркбляемых слов после удаления стоп-слов:.         502\n",
      ",         303\n",
      "!         163\n",
      "recipe    119\n",
      "'s         78\n",
      "make       71\n",
      "like       50\n",
      "n't        47\n",
      ")          45\n",
      "one        43\n",
      "dtype: int64\n"
     ]
    }
   ],
   "source": [
    "from nltk.corpus import stopwords\n",
    "stop_words=set(stopwords.words('english'))\n",
    "print(stop_words)\n",
    "filtered_words=[w for w in words if w.lower() not in stop_words]\n",
    "\n",
    "top10_before=pd.Series(words).value_counts().head(10)\n",
    "top10_after=pd.Series(filtered_words).value_counts().head(10)\n",
    "\n",
    "stop_words_count=len([w for w in words if w.lower() in stop_words])\n",
    "total_words_count=len(words)\n",
    "stop_words_ratio=stop_words_count / total_words_count\n",
    "\n",
    "print(f\"Доля стоп-слов в общем количесве слов:{stop_words_ratio}\")\n",
    "print(f\"Топ-10 самых часто употребляемых слов до удаления стоп-слов:{top10_before}\")\n",
    "print(f\"Топ-10 самых часто употркбляемых слов после удаления стоп-слов:{top10_after}\")"
   ]
  },
  {
   "cell_type": "markdown",
   "metadata": {},
   "source": [
    "### Векторное представление текста"
   ]
  },
  {
   "cell_type": "markdown",
   "metadata": {},
   "source": [
    "3.1 Выберите случайным образом 5 рецептов из набора данных. Представьте описание каждого рецепта в виде числового вектора при помощи `TfidfVectorizer`"
   ]
  },
  {
   "cell_type": "code",
   "execution_count": 19,
   "metadata": {},
   "outputs": [
    {
     "name": "stdout",
     "output_type": "stream",
     "text": [
      "Рецепт19303:orange chocolate chip pancakes\n",
      "Векторное описание:[[0.5 0.  0.  0.  0.  0.  0.  0.  0.  0.  0.  0.  0.5 0.  0.  0.5 0.  0.\n",
      "  0.  0.  0.  0.  0.  0.  0.  0.  0.  0.  0.  0.  0.  0.  0.  0.  0.  0.\n",
      "  0.  0.  0.  0.  0.  0.5 0.  0.  0.  0.  0.  0. ]]\n",
      "Рецепт23590:savory mushroom spread\n",
      "Векторное описание:[[0.         0.33333333 0.         0.         0.         0.\n",
      "  0.         0.         0.33333333 0.         0.         0.\n",
      "  0.         0.33333333 0.33333333 0.         0.         0.\n",
      "  0.         0.         0.         0.         0.33333333 0.33333333\n",
      "  0.         0.         0.33333333 0.         0.         0.\n",
      "  0.         0.         0.         0.         0.         0.\n",
      "  0.         0.         0.         0.33333333 0.         0.\n",
      "  0.33333333 0.         0.         0.         0.         0.        ]]\n",
      "Рецепт18102:morning orange drink\n",
      "Векторное описание:[[0.         0.         0.         0.28867513 0.         0.\n",
      "  0.         0.         0.         0.28867513 0.28867513 0.\n",
      "  0.         0.         0.         0.         0.28867513 0.28867513\n",
      "  0.         0.         0.         0.28867513 0.         0.\n",
      "  0.         0.         0.         0.         0.         0.28867513\n",
      "  0.28867513 0.         0.         0.         0.28867513 0.\n",
      "  0.         0.28867513 0.         0.         0.         0.\n",
      "  0.         0.         0.28867513 0.         0.28867513 0.        ]]\n",
      "Рецепт3082:bisquick butterscotch brownies\n",
      "Векторное описание:[[0.         0.         0.36729155 0.         0.55093733 0.\n",
      "  0.18364578 0.18364578 0.         0.         0.         0.14816426\n",
      "  0.         0.         0.         0.         0.         0.\n",
      "  0.         0.18364578 0.         0.         0.         0.\n",
      "  0.36729155 0.18364578 0.         0.18364578 0.18364578 0.\n",
      "  0.         0.18364578 0.18364578 0.         0.         0.\n",
      "  0.18364578 0.         0.18364578 0.         0.18364578 0.\n",
      "  0.         0.         0.         0.18364578 0.         0.        ]]\n",
      "Рецепт771:another taco casserole\n",
      "Векторное описание:[[0.         0.         0.         0.         0.         0.36152912\n",
      "  0.         0.         0.         0.         0.         0.29167942\n",
      "  0.         0.         0.         0.         0.         0.\n",
      "  0.36152912 0.         0.36152912 0.         0.         0.\n",
      "  0.         0.         0.         0.         0.         0.\n",
      "  0.         0.         0.         0.36152912 0.         0.36152912\n",
      "  0.         0.         0.         0.         0.         0.\n",
      "  0.         0.36152912 0.         0.         0.         0.36152912]]\n"
     ]
    }
   ],
   "source": [
    "from sklearn.feature_extraction.text import TfidfVectorizer\n",
    "\n",
    "df=pd.read_csv('preprocessed_descriptions.csv')\n",
    "random_recipes=df.sample(n=5)\n",
    "\n",
    "vectorizer= TfidfVectorizer(stop_words='english')\n",
    "vectors=vectorizer.fit_transform(random_recipes['description'])\n",
    "k=0\n",
    "for i,recipe in random_recipes.iterrows():\n",
    "    print(f\"Рецепт{i+1}:{recipe['name']}\")\n",
    "    print(f\"Векторное описание:{vectors[k].toarray()}\")\n",
    "    k+=1"
   ]
  },
  {
   "cell_type": "markdown",
   "metadata": {},
   "source": [
    "3.2 Вычислите близость между каждой парой рецептов, выбранных в задании 3.1, используя косинусное расстояние (`scipy.spatial.distance.cosine`) Результаты оформите в виде таблицы `pd.DataFrame`. В качестве названий строк и столбцов используйте названия рецептов."
   ]
  },
  {
   "cell_type": "code",
   "execution_count": 22,
   "metadata": {},
   "outputs": [
    {
     "name": "stdout",
     "output_type": "stream",
     "text": [
      "description  source: gourmet february 2008  \\\n",
      "0                                      1.0   \n",
      "1                                      0.0   \n",
      "2                                      0.0   \n",
      "3                                      0.0   \n",
      "4                                      0.0   \n",
      "\n",
      "description  i am a mushroom lover. garlic too lol. this is a good spread to serve on baguettes or crackers  \\\n",
      "0                                                          0.0                                                \n",
      "1                                                          1.0                                                \n",
      "2                                                          0.0                                                \n",
      "3                                                          0.0                                                \n",
      "4                                                          0.0                                                \n",
      "\n",
      "description  although it requires only a few basic ingredients and little preparation, this drink always draws raves from overnight guests about its \"wake-up\" taste.  \\\n",
      "0                                                          0.0                                                                                                          \n",
      "1                                                          0.0                                                                                                          \n",
      "2                                                          1.0                                                                                                          \n",
      "3                                                          0.0                                                                                                          \n",
      "4                                                          0.0                                                                                                          \n",
      "\n",
      "description  very easy and simple to prepare, if you have bisquick baking mix around...these come out light and moist (note: i have always used original bisquick baking mix for this recipe, so i can't promise the same results with a bisquick clone).  \\\n",
      "0                                                     0.000000                                                                                                                                                                                              \n",
      "1                                                     0.000000                                                                                                                                                                                              \n",
      "2                                                     0.000000                                                                                                                                                                                              \n",
      "3                                                     1.000000                                                                                                                                                                                              \n",
      "4                                                     0.043216                                                                                                                                                                                              \n",
      "\n",
      "description  yes, another taco casserole. this one is really quick and easy, and the kids seem to like it too.  \n",
      "0                                                     0.000000                                                  \n",
      "1                                                     0.000000                                                  \n",
      "2                                                     0.000000                                                  \n",
      "3                                                     0.043216                                                  \n",
      "4                                                     1.000000                                                  \n"
     ]
    }
   ],
   "source": [
    "from scipy.spatial.distance import cosine\n",
    "\n",
    "si=[]\n",
    "for i in range (vectors.shape[0]):\n",
    "    row=[]\n",
    "    for j in range (vectors.shape[0]):\n",
    "        sim=1-cosine(vectors[i].toarray(),vectors[j].toarray())\n",
    "        row.append(sim)\n",
    "    si.append(row)\n",
    "s_df=pd.DataFrame(si,columns=random_recipes['description'])\n",
    "print(s_df)"
   ]
  },
  {
   "cell_type": "markdown",
   "metadata": {},
   "source": [
    "3.3 Какие рецепты являются наиболее похожими? Прокомментируйте результат (словами)."
   ]
  }
 ],
 "metadata": {
  "kernelspec": {
   "display_name": "Python 3 (ipykernel)",
   "language": "python",
   "name": "python3"
  },
  "language_info": {
   "codemirror_mode": {
    "name": "ipython",
    "version": 3
   },
   "file_extension": ".py",
   "mimetype": "text/x-python",
   "name": "python",
   "nbconvert_exporter": "python",
   "pygments_lexer": "ipython3",
   "version": "3.9.12"
  }
 },
 "nbformat": 4,
 "nbformat_minor": 4
}
