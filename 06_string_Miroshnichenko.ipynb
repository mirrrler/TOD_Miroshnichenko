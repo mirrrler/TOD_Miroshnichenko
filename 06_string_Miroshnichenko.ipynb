{
 "cells": [
  {
   "cell_type": "markdown",
   "metadata": {},
   "source": [
    "# Работа со строковыми значениями"
   ]
  },
  {
   "cell_type": "markdown",
   "metadata": {},
   "source": [
    "__Автор задач: Блохин Н.В. (NVBlokhin@fa.ru)__\n",
    "\n",
    "Материалы:\n",
    "* Макрушин С.В. Лекция \"Работа со строковыми значениям\"\n",
    "* https://pyformat.info/\n",
    "* https://docs.python.org/3/library/re.html\n",
    "    * https://docs.python.org/3/library/re.html#flags\n",
    "    * https://docs.python.org/3/library/re.html#functions\n",
    "* https://pythonru.com/primery/primery-primeneniya-regulyarnyh-vyrazheniy-v-python\n",
    "* https://kanoki.org/2019/11/12/how-to-use-regex-in-pandas/\n",
    "* https://realpython.com/nltk-nlp-python/"
   ]
  },
  {
   "cell_type": "markdown",
   "metadata": {},
   "source": [
    "## Задачи для совместного разбора"
   ]
  },
  {
   "cell_type": "markdown",
   "metadata": {},
   "source": [
    "1. Вывести на экран данные из словаря `obj` построчно в виде `k = v`, задав формат таким образом, чтобы знак равенства оказался на одной и той же позиции во всех строках. Строковые литералы обернуть в кавычки."
   ]
  },
  {
   "cell_type": "code",
   "execution_count": 1,
   "metadata": {},
   "outputs": [],
   "source": [
    "obj = {\n",
    "    \"home_page\": \"https://github.com/pypa/sampleproject\",\n",
    "    \"keywords\": \"sample setuptools development\",\n",
    "    \"license\": \"MIT\",\n",
    "}"
   ]
  },
  {
   "cell_type": "markdown",
   "metadata": {},
   "source": [
    "2. Написать регулярное выражение,которое позволит найти номера групп студентов."
   ]
  },
  {
   "cell_type": "code",
   "execution_count": 4,
   "metadata": {},
   "outputs": [
    {
     "data": {
      "text/plain": [
       "0    Евгения гр.ПМ19-1\n",
       "1         Илья пм 20-4\n",
       "2            Анна 20-3\n",
       "dtype: object"
      ]
     },
     "execution_count": 4,
     "metadata": {},
     "output_type": "execute_result"
    }
   ],
   "source": [
    "obj = pd.Series([\"Евгения гр.ПМ19-1\", \"Илья пм 20-4\", \"Анна 20-3\"])\n",
    "obj"
   ]
  },
  {
   "cell_type": "markdown",
   "metadata": {},
   "source": [
    "3. Разбейте текст формулировки задачи 2 на слова."
   ]
  },
  {
   "cell_type": "markdown",
   "metadata": {},
   "source": [
    "## Лабораторная работа 6.1"
   ]
  },
  {
   "cell_type": "markdown",
   "metadata": {},
   "source": [
    "### Форматирование строк"
   ]
  },
  {
   "cell_type": "markdown",
   "metadata": {},
   "source": [
    "6\\.1\\.1\\. Загрузите данные из файла `recipes_sample.csv` (__ЛР2__) в виде `pd.DataFrame` `recipes` При помощи форматирования строк выведите информацию об id рецепта и времени выполнения 5 случайных рецептов в виде таблицы следующего вида:\n",
    "\n",
    "    \n",
    "    |      id      |  minutes  |\n",
    "    |--------------------------|\n",
    "    |    61178     |    65     |\n",
    "    |    202352    |    80     |\n",
    "    |    364322    |    150    |\n",
    "    |    26177     |    20     |\n",
    "    |    224785    |    35     |\n",
    "    \n",
    "Обратите внимание, что ширина столбцов заранее неизвестна и должна рассчитываться динамически, в зависимости от тех данных, которые были выбраны. "
   ]
  },
  {
   "cell_type": "code",
   "execution_count": 4,
   "metadata": {},
   "outputs": [],
   "source": [
    "import pandas as pd"
   ]
  },
  {
   "cell_type": "code",
   "execution_count": 6,
   "metadata": {},
   "outputs": [
    {
     "name": "stdout",
     "output_type": "stream",
     "text": [
      "|      id    |  minutes  |\n",
      "|------------------------|\n",
      "|    50482     |    25     |\n",
      "|    249552    |    25     |\n",
      "|    70239     |    70     |\n",
      "|    458357    |     5     |\n",
      "|    63479     |    365    |\n"
     ]
    }
   ],
   "source": [
    "recipes=pd.read_csv('recipes_sample.csv',delimiter=',')\n",
    "recipes_random=recipes.sample(n=5)\n",
    "recipes_random=recipes_random[['id','minutes']]\n",
    "recipes_id=recipes_random['id'].tolist()\n",
    "recipes_minutes=recipes_random['minutes'].tolist()\n",
    "print(f'|      id    |  minutes  |')\n",
    "print('|------------------------|')\n",
    "for index in range(5):\n",
    "    print(f\"|{recipes_id[index]:^14}|{recipes_minutes[index]:^11}|\")"
   ]
  },
  {
   "cell_type": "markdown",
   "metadata": {},
   "source": [
    "6\\.1\\.2\\. Напишите функцию `show_info`, которая по данным о рецепте создает строку (в смысле объекта python) с описанием следующего вида:\n",
    "\n",
    "```\n",
    "\"Название Из Нескольких Слов\"\n",
    "\n",
    "1. Шаг 1\n",
    "2. Шаг 2\n",
    "----------\n",
    "Автор: contributor_id\n",
    "Среднее время приготовления: minutes минут\n",
    "```\n",
    "\n",
    "    \n",
    "Данные для создания строки получите из файлов `recipes_sample.csv` (__ЛР2__) и `steps_sample.xml` (__ЛР3__). \n",
    "Вызовите данную функцию для рецепта с id `170895` и выведите (через `print`) полученную строку на экран."
   ]
  },
  {
   "cell_type": "code",
   "execution_count": 10,
   "metadata": {},
   "outputs": [
    {
     "name": "stdout",
     "output_type": "stream",
     "text": [
      "\"George S At The Cove Black Bean Soup\"\n",
      "\n",
      "1.clean the leeks and discard the dark green portions\n",
      "--------------------------\n",
      "Автор:35193\n",
      "Среднее время приготовления: 90 минут\n"
     ]
    }
   ],
   "source": [
    "def show_info(name,steps,minutes,author_id):\n",
    "    string=f'\"{name.title()}\"\\n\\n'\n",
    "    for i,step in enumerate(steps,start=1):\n",
    "        string+=f'{i}.{step}\\n'\n",
    "        string+='--------------------------\\n'\n",
    "        string+=f'Автор:{author_id}\\n'\n",
    "        string+=f'Среднее время приготовления: {minutes} минут'\n",
    "        return string\n",
    "print(show_info(name=\"george s at the cove black bean soup\",steps=[\n",
    "            \"clean the leeks and discard the dark green portions\",\n",
    "            \"cut the leeks lengthwise then into one-inch pieces\",\n",
    "            \"melt the butter in a medium skillet , med\",],\n",
    "        minutes=90,\n",
    "        author_id=35193))"
   ]
  },
  {
   "cell_type": "markdown",
   "metadata": {},
   "source": [
    "## Работа с регулярными выражениями"
   ]
  },
  {
   "cell_type": "markdown",
   "metadata": {},
   "source": [
    "6\\.1\\.3\\. Напишите регулярное выражение, которое ищет следующий паттерн в строке: число (1 цифра или более), затем пробел, затем слова: hour или hours или minute или minutes. Произведите поиск по данному регулярному выражению в каждом шаге рецепта с id 25082. Выведите на экран все непустые результаты, найденные по данному шаблону."
   ]
  },
  {
   "cell_type": "code",
   "execution_count": null,
   "metadata": {},
   "outputs": [],
   "source": [
    "steps=recipes['25082']\n",
    "p=re.compile(r'(\\d+\\s+(hours|hour|minutes|minute))')\n",
    "strings=['17 hour cake','19 minutes pie','0apple']\n",
    "for el in strings:\n",
    "    if re.search(p,el):\n",
    "        print(el)\n",
    "steps=recipes['25082']\n",
    "steps"
   ]
  },
  {
   "cell_type": "markdown",
   "metadata": {},
   "source": [
    "6\\.1\\.4\\. Напишите регулярное выражение, которое ищет шаблон вида \"this..., but\" _в начале строки_ . Между словом \"this\" и частью \", but\" может находиться произвольное число букв, цифр, знаков подчеркивания и пробелов. Никаких других символов вместо многоточия быть не может. Пробел между запятой и словом \"but\" может присутствовать или отсутствовать.\n",
    "\n",
    "Используя строковые методы `pd.Series`, выясните, для каких рецептов данный шаблон содержится в тексте описания. Выведите на экран количество таких рецептов и 3 примера подходящих описаний (текст описания должен быть виден на экране полностью)."
   ]
  },
  {
   "cell_type": "markdown",
   "metadata": {},
   "source": [
    "## Лабораторная 6.2"
   ]
  },
  {
   "cell_type": "markdown",
   "metadata": {},
   "source": [
    "6\\.2\\.1\\. В текстах шагов рецептов обыкновенные дроби имеют вид \"a / b\". Используя регулярные выражения, уберите в тексте шагов рецепта с id 72367 пробелы до и после символа дроби. Выведите на экран шаги этого рецепта после их изменения."
   ]
  },
  {
   "cell_type": "markdown",
   "metadata": {},
   "source": [
    "### Сегментация текста"
   ]
  },
  {
   "cell_type": "markdown",
   "metadata": {},
   "source": [
    "6\\.2\\.2\\. Разбейте тексты шагов рецептов на слова при помощи пакета `nltk`. Посчитайте и выведите на экран кол-во уникальных слов среди всех рецептов. Словом называется любая последовательность алфавитных символов (для проверки можно воспользоваться `str.isalpha`). При подсчете количества уникальных слов не учитывайте регистр."
   ]
  },
  {
   "cell_type": "markdown",
   "metadata": {},
   "source": [
    "6\\.2\\.3\\. Разбейте описания рецептов из `recipes` на предложения при помощи пакета `nltk`. Найдите 5 самых длинных описаний (по количеству _предложений_) рецептов в датасете и выведите строки фрейма, соответствующие этим рецептами, в порядке убывания длины."
   ]
  },
  {
   "cell_type": "markdown",
   "metadata": {},
   "source": [
    "6\\.2\\.4\\. Напишите функцию, которая для заданного предложения выводит информацию о частях речи слов, входящих в предложение, в следующем виде:\n",
    "```\n",
    "PRP   VBD   DT      NNS     CC   VBD      NNS        RB   \n",
    " I  omitted the raspberries and added strawberries instead\n",
    "``` \n",
    "Для определения части речи слова можно воспользоваться `nltk.pos_tag`.\n",
    "\n",
    "Проверьте работоспособность функции на названии рецепта с id 241106.\n",
    "\n",
    "Обратите внимание, что часть речи должна находиться ровно посередине над соотвествующим словом, а между самими словами должен быть ровно один пробел.\n"
   ]
  }
 ],
 "metadata": {
  "kernelspec": {
   "display_name": "Python 3 (ipykernel)",
   "language": "python",
   "name": "python3"
  },
  "language_info": {
   "codemirror_mode": {
    "name": "ipython",
    "version": 3
   },
   "file_extension": ".py",
   "mimetype": "text/x-python",
   "name": "python",
   "nbconvert_exporter": "python",
   "pygments_lexer": "ipython3",
   "version": "3.9.12"
  }
 },
 "nbformat": 4,
 "nbformat_minor": 4
}
